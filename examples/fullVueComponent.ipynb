{
 "cells": [
  {
   "cell_type": "code",
   "execution_count": null,
   "metadata": {},
   "outputs": [],
   "source": [
    "import ipyvue as vue\n",
    "import traitlets"
   ]
  },
  {
   "cell_type": "code",
   "execution_count": null,
   "metadata": {},
   "outputs": [],
   "source": [
    "class Parent(vue.VueTemplate):\n",
    "    template = traitlets.Unicode('''\n",
    "        <template>\n",
    "            <div>\n",
    "                <div>parent</div>\n",
    "                <full-vue :some-prop=\"myprop\" />\n",
    "            </div>\n",
    "        </template>\n",
    "    ''').tag(sync=True)\n",
    "    \n",
    "    myprop = traitlets.Unicode('hello').tag(sync=True)\n",
    "    \n",
    "    components = traitlets.Dict({'full-vue': '''\n",
    "        <template>\n",
    "            <div>\n",
    "                Prop from parent: \n",
    "                <h3> {{ someProp}} </h3>\n",
    "            </div>\n",
    "        </template>\n",
    "        <script>\n",
    "            module.exports = {\n",
    "                props: ['someProp']\n",
    "            }\n",
    "        </script>\n",
    "    '''}).tag(sync=True)\n",
    "\n",
    "parent = Parent()\n",
    "parent"
   ]
  },
  {
   "cell_type": "code",
   "execution_count": null,
   "metadata": {},
   "outputs": [],
   "source": [
    "parent.myprop = 'hi'"
   ]
  },
  {
   "cell_type": "code",
   "execution_count": null,
   "metadata": {},
   "outputs": [],
   "source": [
    "vue.register_component_from_string(\n",
    "    'g-sub',\n",
    "    '''\n",
    "        <template>\n",
    "            <span>sub-component</span>\n",
    "        </template\n",
    "''')"
   ]
  },
  {
   "cell_type": "code",
   "execution_count": null,
   "metadata": {},
   "outputs": [],
   "source": [
    "vue.register_component_from_string(\n",
    "    'g-full-vue',\n",
    "    '''\n",
    "        <template>\n",
    "            <div>\n",
    "                Prop from parent (g): \n",
    "                <h3> {{ someProp}} </h3>\n",
    "                <button @click=\"changeProp()\">change</button>\n",
    "                <div>\n",
    "                    sub: <g-sub></g-sub>\n",
    "                </div>\n",
    "            </div>\n",
    "        </template>\n",
    "        <script>\n",
    "            module.exports = {\n",
    "                props: ['someProp'],\n",
    "                methods: {\n",
    "                    changeProp() {\n",
    "                        this.$emit('update:someProp', 'new value')\n",
    "                    }\n",
    "                }\n",
    "            }\n",
    "        </script>\n",
    "        <style scoped>\n",
    "            h3 {\n",
    "                color: blue\n",
    "            }\n",
    "        </style>\n",
    "''')"
   ]
  },
  {
   "cell_type": "code",
   "execution_count": null,
   "metadata": {},
   "outputs": [],
   "source": [
    "class GlobalExample(vue.VueTemplate):\n",
    "    template = traitlets.Unicode('''\n",
    "        <template>\n",
    "            <div>\n",
    "                <div>parent</div>\n",
    "                <g-full-vue :some-prop.sync=\"myprop\"></g-full-vue>\n",
    "            </div>\n",
    "        </template>\n",
    "    ''').tag(sync=True)\n",
    "    \n",
    "    myprop = traitlets.Unicode('hello').tag(sync=True)\n",
    "    \n",
    "globalExample = GlobalExample()\n",
    "globalExample\n"
   ]
  },
  {
   "cell_type": "code",
   "execution_count": null,
   "metadata": {},
   "outputs": [],
   "source": [
    "vue.Html(tag='h3', children=['test scoped'])"
   ]
  },
  {
   "cell_type": "code",
   "execution_count": null,
   "metadata": {},
   "outputs": [],
   "source": [
    "globalExample.myprop"
   ]
  },
  {
   "cell_type": "code",
   "execution_count": null,
   "metadata": {},
   "outputs": [],
   "source": [
    "globalExample.myprop = 'hi'"
   ]
  },
  {
   "cell_type": "code",
   "execution_count": null,
   "metadata": {},
   "outputs": [],
   "source": [
    "import ipyvuetify as v\n",
    "from traitlets import Unicode, Dict, List\n",
    "import ipywidgets as w\n",
    "\n",
    "class Testing(v.VuetifyTemplate):\n",
    "    template = Unicode(\"\"\"\n",
    "    <template>\n",
    "        <test-comp :viewer=\"some_widget\"></test-comp>\n",
    "    </template>\n",
    "    \"\"\").tag(sync=True)\n",
    "    \n",
    "    components = Dict({\n",
    "        'test-comp': \"\"\"\n",
    "            <template>\n",
    "              <v-card>\n",
    "                <v-btn>Test</v-btn>\n",
    "                <span>HERE</span>\n",
    "                {{ viewer }}\n",
    "                <jupyter-widget :widget=\"viewer[0]\"></jupyter-widget>\n",
    "              </v-card>\n",
    "            </template>\n",
    "            <script>\n",
    "            module.exports = {\n",
    "              props: [\"viewer\"]\n",
    "            };\n",
    "            </script>\n",
    "        \"\"\"\n",
    "    }).tag(sync=True)\n",
    "    \n",
    "    some_widget = List([\n",
    "        v.Btn(children=['Test'])\n",
    "    ]).tag(sync=True, **w.widget_serialization)\n",
    "    \n",
    "Testing()"
   ]
  },
  {
   "cell_type": "code",
   "execution_count": null,
   "metadata": {},
   "outputs": [],
   "source": []
  }
 ],
 "metadata": {
  "kernelspec": {
   "display_name": "Python 3",
   "language": "python",
   "name": "python3"
  },
  "language_info": {
   "codemirror_mode": {
    "name": "ipython",
    "version": 3
   },
   "file_extension": ".py",
   "mimetype": "text/x-python",
   "name": "python",
   "nbconvert_exporter": "python",
   "pygments_lexer": "ipython3",
   "version": "3.7.6"
  }
 },
 "nbformat": 4,
 "nbformat_minor": 2
}
