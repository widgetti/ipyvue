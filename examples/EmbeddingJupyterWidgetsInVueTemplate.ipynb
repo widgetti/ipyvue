{
 "cells": [
  {
   "cell_type": "code",
   "execution_count": null,
   "metadata": {},
   "outputs": [],
   "source": [
    "import ipyvue as vue\n",
    "import ipywidgets as widgets\n",
    "from traitlets import (Unicode, List, Int, Bool, Any, Dict)\n",
    "\n",
    "slider1 = widgets.IntSlider(description='Slider 1', value=20)\n",
    "slider2 = widgets.IntSlider(description='Slider 2', value=40)\n",
    "\n",
    "class MyComponent(vue.VueTemplate):\n",
    "    \n",
    "    items = List([{\n",
    "        'title': 'Title 1',\n",
    "        'content': slider1\n",
    "    }, {\n",
    "        'title': 'Title 2',\n",
    "        'content': slider2\n",
    "    }]).tag(sync=True, **widgets.widget_serialization)\n",
    "    \n",
    "    single_widget = Any(\n",
    "        widgets.IntSlider(description='Single slider', value=40)\n",
    "    ).tag(sync=True, **widgets.widget_serialization)\n",
    "\n",
    "\n",
    "    template=Unicode(\"\"\"\n",
    "        <template>\n",
    "            <div>\n",
    "                <div v-for=\"item in items\" :key=\"item.title + item.content\">\n",
    "                    {{ item.title }}: <jupyter-widget :widget=\"item.content\" />\n",
    "                </div>\n",
    "                Single widget: <jupyter-widget :widget=\"single_widget\" />\n",
    "            </div>\n",
    "        </template>\n",
    "    \"\"\").tag(sync=True)\n",
    "\n",
    "my_component = MyComponent()\n",
    "my_component"
   ]
  },
  {
   "cell_type": "code",
   "execution_count": null,
   "metadata": {},
   "outputs": [],
   "source": [
    "# add a widget\n",
    "slider3 = widgets.IntSlider(description='Slider 3', value=60)\n",
    "my_component.items=[*my_component.items, {'title': 'Title 3', 'content': slider3}]"
   ]
  },
  {
   "cell_type": "code",
   "execution_count": null,
   "metadata": {},
   "outputs": [],
   "source": [
    "my_component.single_widget = widgets.IntSlider(description='changed')"
   ]
  },
  {
   "cell_type": "code",
   "execution_count": null,
   "metadata": {},
   "outputs": [],
   "source": []
  }
 ],
 "metadata": {
  "kernelspec": {
   "display_name": "Python 3",
   "language": "python",
   "name": "python3"
  },
  "language_info": {
   "codemirror_mode": {
    "name": "ipython",
    "version": 3
   },
   "file_extension": ".py",
   "mimetype": "text/x-python",
   "name": "python",
   "nbconvert_exporter": "python",
   "pygments_lexer": "ipython3",
   "version": "3.7.3"
  }
 },
 "nbformat": 4,
 "nbformat_minor": 2
}
