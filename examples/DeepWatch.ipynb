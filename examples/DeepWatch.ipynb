{
 "cells": [
  {
   "cell_type": "code",
   "execution_count": null,
   "metadata": {},
   "outputs": [],
   "source": [
    "import ipyvuetify as v\n",
    "import traitlets\n",
    "class MyDeep(v.VuetifyTemplate):\n",
    "    deep = traitlets.Dict({'prop': 1,\n",
    "                          'deeper': {'prop': 2}}).tag(sync=True)\n",
    "    not_deep = traitlets.Unicode('x').tag(sync=True)\n",
    "    deep_array = traitlets.List(['array']).tag(sync=True)\n",
    "    deep_array2 = traitlets.List([{'prop': 'array2'}]).tag(sync=True)\n",
    "    template = traitlets.Unicode('''\n",
    "    <template>\n",
    "        <div>\n",
    "            <v-text-field v-model=\"deep.prop\" />\n",
    "            <v-text-field v-model=\"deep.deeper.prop\" />\n",
    "            <v-text-field v-model=\"not_deep\" />\n",
    "            <v-text-field v-model=\"deep_array[0]\" />\n",
    "            <v-text-field v-model=\"deep_array2[0].prop\" />\n",
    "            {{ deep.prop }} |\n",
    "            {{ deep.deeper.prop }} |\n",
    "            {{ not_deep }} |\n",
    "            {{ deep_array[0] }} |\n",
    "            {{ deep_array2[0].prop }}\n",
    "        </div>\n",
    "    </template>\n",
    "    ''').tag(sync=True)\n",
    "    \n",
    "md = MyDeep()\n",
    "md"
   ]
  },
  {
   "cell_type": "code",
   "execution_count": null,
   "metadata": {},
   "outputs": [],
   "source": [
    "[md.deep, md.not_deep, md.deep_array, md.deep_array2]"
   ]
  },
  {
   "cell_type": "code",
   "execution_count": null,
   "metadata": {},
   "outputs": [],
   "source": [
    "md.deep['deeper']"
   ]
  },
  {
   "cell_type": "code",
   "execution_count": null,
   "metadata": {},
   "outputs": [],
   "source": []
  }
 ],
 "metadata": {
  "kernelspec": {
   "display_name": "Python 3",
   "language": "python",
   "name": "python3"
  },
  "language_info": {
   "codemirror_mode": {
    "name": "ipython",
    "version": 3
   },
   "file_extension": ".py",
   "mimetype": "text/x-python",
   "name": "python",
   "nbconvert_exporter": "python",
   "pygments_lexer": "ipython3",
   "version": "3.7.6"
  }
 },
 "nbformat": 4,
 "nbformat_minor": 4
}
